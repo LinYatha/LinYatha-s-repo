{
 "cells": [
  {
   "cell_type": "code",
   "execution_count": 1,
   "metadata": {},
   "outputs": [
    {
     "name": "stdout",
     "output_type": "stream",
     "text": [
      "5\n"
     ]
    }
   ],
   "source": [
    "#Assigment1\n",
    "def num(digit):\n",
    "  count=0\n",
    "  for i in str(digit):\n",
    "    count+=1\n",
    "  print(count)\n",
    "num(78948)\n"
   ]
  },
  {
   "cell_type": "code",
   "execution_count": 6,
   "metadata": {},
   "outputs": [
    {
     "data": {
      "text/plain": [
       "50"
      ]
     },
     "execution_count": 6,
     "metadata": {},
     "output_type": "execute_result"
    }
   ],
   "source": [
    "#Assigment2\n",
    "def bigger_sum(a,b,c):\n",
    "  empty=[]\n",
    "  for i in a,b,c:\n",
    "    empty.append(i)\n",
    "  lar=max(empty)\n",
    "  empty.remove(lar)\n",
    "  sec_lar=max(empty)\n",
    "  result=(lar**2)+(sec_lar**2)\n",
    "  return result\n",
    "bigger_sum(5,5,5)\n",
    "\n"
   ]
  },
  {
   "cell_type": "code",
   "execution_count": 9,
   "metadata": {},
   "outputs": [
    {
     "data": {
      "text/plain": [
       "False"
      ]
     },
     "execution_count": 9,
     "metadata": {},
     "output_type": "execute_result"
    }
   ],
   "source": [
    "#Assigment3\n",
    "def is_leap_year(year):\n",
    "  if year % 4==0 and (year % 400 ==0 or year%100!=0):\n",
    "    return True\n",
    "  else:\n",
    "    return False\n",
    "is_leap_year(2012)"
   ]
  },
  {
   "cell_type": "code",
   "execution_count": null,
   "metadata": {},
   "outputs": [],
   "source": [
    "#Assigment4\n",
    "import math \n",
    "def area_of_circle(radius):\n",
    "  answer=math.pi * (radius ** 2)\n",
    "  return answer\n",
    "area_of_circle(3)"
   ]
  }
 ],
 "metadata": {
  "kernelspec": {
   "display_name": "Python 3.11.1 64-bit",
   "language": "python",
   "name": "python3"
  },
  "language_info": {
   "codemirror_mode": {
    "name": "ipython",
    "version": 3
   },
   "file_extension": ".py",
   "mimetype": "text/x-python",
   "name": "python",
   "nbconvert_exporter": "python",
   "pygments_lexer": "ipython3",
   "version": "3.11.1 (tags/v3.11.1:a7a450f, Dec  6 2022, 19:58:39) [MSC v.1934 64 bit (AMD64)]"
  },
  "orig_nbformat": 4,
  "vscode": {
   "interpreter": {
    "hash": "e956c49ae0caa224b5fdd754cbc353d7e61c6c61f7329ee680c7f7b4f1b71a8e"
   }
  }
 },
 "nbformat": 4,
 "nbformat_minor": 2
}
